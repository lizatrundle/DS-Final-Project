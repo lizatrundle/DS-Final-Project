{
 "cells": [
  {
   "cell_type": "code",
   "execution_count": null,
   "metadata": {},
   "outputs": [],
   "source": []
  },
  {
   "cell_type": "markdown",
   "metadata": {},
   "source": [
    "For this Final Project, we chose to focus on Spotify song Data. We wanted to figure out how we might predict popularity of songs based on certain characterstics/features of the song. We found our dataset on this website: https://huggingface.co/datasets/maharshipandya/spotify-tracks-dataset/tree/main \n",
    "\n",
    "The columns that we are working with to analyze are as follows: \n",
    "name\n",
    "album\n",
    "artist\n",
    "id\n",
    "release_date\n",
    "popularity\n",
    "length\n",
    "danceability\n",
    "acousticness\n",
    "energy\n",
    "instrumentalness\n",
    "liveness\n",
    "valence\n",
    "loudness\n",
    "speechiness\n",
    "tempo\n",
    "key\n",
    "time_signature\n",
    "mood\n",
    "\n",
    "We chose our target variable to be popularity, because this seemed like the best factor to consider.\n",
    "\n",
    "\n"
   ]
  }
 ],
 "metadata": {
  "language_info": {
   "name": "python"
  }
 },
 "nbformat": 4,
 "nbformat_minor": 2
}
