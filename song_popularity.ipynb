{
 "cells": [
  {
   "cell_type": "markdown",
   "metadata": {},
   "source": [
    "For our final project, we have chosen to analyze Spotify music data, focusing on key attributes of songs. This dataset comprises various features, including track duration, explicit content, danceability, energy, and more.\n",
    "\n",
    "Our central question revolves around predicting the popularity of a song based on its musical characteristics and qualities. Specifically, we aim to investigate the following:\n",
    "\n",
    "Can we predict the popularity of a song based on musical characteristics/qualities? What qualities of a song contribute the most to its popularity?\n",
    "\n",
    "The motivation and value behind this question is to provide valuable insights for recording companies and artists, offering a greater understanding of the factors that influence a song's popularity. By determining which musical attributes contribute significantly to a song's success, stakeholders can make informed decisions to enhance the appeal and marketability of their music. \n",
    "\n",
    "Our question is relevant to the music industry, where the ability to predict a song's popularity directly impacts revenue generation.\n",
    "\n",
    "\n",
    "We found our dataset on this website: https://huggingface.co/datasets/maharshipandya/spotify-tracks-dataset/tree/main \n",
    "\n",
    "The columns that we are working with to analyze are as follows: \n",
    "name\n",
    "album\n",
    "artist\n",
    "id\n",
    "release_date\n",
    "popularity\n",
    "length\n",
    "danceability\n",
    "acousticness\n",
    "energy\n",
    "instrumentalness\n",
    "liveness\n",
    "valence\n",
    "loudness\n",
    "speechiness\n",
    "tempo\n",
    "key\n",
    "time_signature\n",
    "mood"
   ]
  },
  {
   "cell_type": "code",
   "execution_count": 18,
   "metadata": {},
   "outputs": [
    {
     "data": {
      "text/plain": [
       "Unnamed: 0            int64\n",
       "track_id             object\n",
       "artists              object\n",
       "album_name           object\n",
       "track_name           object\n",
       "popularity            int64\n",
       "duration_ms           int64\n",
       "explicit               bool\n",
       "danceability        float64\n",
       "energy              float64\n",
       "key                   int64\n",
       "loudness            float64\n",
       "mode                  int64\n",
       "speechiness         float64\n",
       "acousticness        float64\n",
       "instrumentalness    float64\n",
       "liveness            float64\n",
       "valence             float64\n",
       "tempo               float64\n",
       "time_signature        int64\n",
       "track_genre          object\n",
       "dtype: object"
      ]
     },
     "execution_count": 18,
     "metadata": {},
     "output_type": "execute_result"
    }
   ],
   "source": [
    "# step 1: import the libraries and upload the dataset \n",
    "import pandas as pd\n",
    "import numpy as np\n",
    "import matplotlib.pyplot as plt\n",
    "import seaborn as sns\n",
    "\n",
    "# open the dataset.csv file \n",
    "music = pd.read_csv('dataset.csv')\n",
    "# inspect the types of each column\n",
    "music.dtypes\n"
   ]
  },
  {
   "cell_type": "markdown",
   "metadata": {},
   "source": [
    "We decided that the best model to use for our question would be Random forest. This is because we have alot of key features that are both numerical and categorical. \n",
    "\n",
    "We want to use random forest to be able to determine what factors contribute the most to popularity. RF is an adequate model for our question because they work with both numerical and categorical data, flexible, and easy to interpret.\n",
    "\n"
   ]
  },
  {
   "cell_type": "markdown",
   "metadata": {},
   "source": [
    "First, lets clean our data set a little bit for manipulation. "
   ]
  },
  {
   "cell_type": "code",
   "execution_count": 19,
   "metadata": {},
   "outputs": [],
   "source": [
    "# check how many nas \n",
    "music.isna().sum()\n",
    "# not too many nas, so we can drop them \n",
    "music = music.dropna()\n"
   ]
  },
  {
   "cell_type": "code",
   "execution_count": 20,
   "metadata": {},
   "outputs": [],
   "source": [
    "# lets fix some of the columns values --> example some of the track names are not legible\n",
    "# lets remove the ones that are not in english, with any letters that contain special symbols \n",
    "# in another language other than english \n",
    "music = music[music['track_name'].str.contains('^[a-zA-Z ]+$')]\n",
    "music['track_name'].value_counts()\n",
    "# lets drop track_id because it is just a bunch of letters \n",
    "music = music.drop(['track_id'], axis = 1)\n",
    "# also remove the unnamed column\n",
    "music = music.drop(['Unnamed: 0'], axis = 1)\n",
    "\n"
   ]
  },
  {
   "cell_type": "code",
   "execution_count": 22,
   "metadata": {},
   "outputs": [
    {
     "data": {
      "text/plain": [
       "artists              object\n",
       "album_name           object\n",
       "track_name           object\n",
       "popularity            int64\n",
       "duration_ms           int64\n",
       "explicit               bool\n",
       "danceability        float64\n",
       "energy              float64\n",
       "key                   int64\n",
       "loudness            float64\n",
       "mode                  int64\n",
       "speechiness         float64\n",
       "acousticness        float64\n",
       "instrumentalness    float64\n",
       "liveness            float64\n",
       "valence             float64\n",
       "tempo               float64\n",
       "time_signature        int64\n",
       "track_genre          object\n",
       "dtype: object"
      ]
     },
     "execution_count": 22,
     "metadata": {},
     "output_type": "execute_result"
    }
   ],
   "source": [
    "music.dtypes\n"
   ]
  }
 ],
 "metadata": {
  "kernelspec": {
   "display_name": "Python 3",
   "language": "python",
   "name": "python3"
  },
  "language_info": {
   "codemirror_mode": {
    "name": "ipython",
    "version": 3
   },
   "file_extension": ".py",
   "mimetype": "text/x-python",
   "name": "python",
   "nbconvert_exporter": "python",
   "pygments_lexer": "ipython3",
   "version": "3.10.4"
  }
 },
 "nbformat": 4,
 "nbformat_minor": 2
}
